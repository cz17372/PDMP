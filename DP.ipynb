{
 "cells": [
  {
   "cell_type": "markdown",
   "metadata": {},
   "source": [
    "## Dynamic Programming\n",
    "\n",
    "We have already done the case when we are allowed to trade at most twice. To solve that problem, we define 4 variables: buy1, buy2, sell1, sell2, where \n",
    "\n",
    "1. buy1: the maximum profit if we buy the stock at the current time for the first time\n",
    "2. buy2: the maximum profit if we buy the stock at the current time for the second time\n",
    "3. sell1: the maximum profit if we sell the stock at the current time for the first time\n",
    "4. sell1: the maximum profit if we sell the stock at the current time for the second time\n",
    "\n",
    "Then we find the **iteration**:\n",
    "buy1: there are two cases at the moment - (1) we don't do anything, then in this case the profit will not change, i.e. buy1 OR (2) we buy the stock at price[i], then the profit will be -price[i]. Therefore, buy1 = max(buy1,-price[i])\n",
    "\n",
    "sell1: there are also two choices - (1) we don't do anything, then in this case the profit will not change, i.e. sell1 OR (2) we sell the stock at price[i], then the profit will be buy1 + price[i]. Therefore, sell1 = max(sell1, buy1+price[i])\n",
    "\n",
    "sell2: (1) we don't do anything, profit = sell2 OR (2) we sell the stock at price[i], profit = buy2 + price[i]. Therefore, sell2 = max(sell2,sell2 + price[i])\n",
    "\n",
    "buy2: (1) we don't do anything, profit = buy2 OR (2) we buy the stock at price[i], profit = sell1 - price[i]. Therefore, buy2 = max(buy2,sell1-price[i])\n",
    "\n"
   ]
  },
  {
   "cell_type": "code",
   "execution_count": null,
   "metadata": {},
   "outputs": [],
   "source": []
  }
 ],
 "metadata": {
  "interpreter": {
   "hash": "353809d7632036b63a4bd0aca8b9097d538439d3859d20d8e1a5f26ad8a094a7"
  },
  "kernelspec": {
   "display_name": "Python 3.8.12 ('base')",
   "language": "python",
   "name": "python3"
  },
  "language_info": {
   "name": "python",
   "version": "3.8.12"
  },
  "orig_nbformat": 4
 },
 "nbformat": 4,
 "nbformat_minor": 2
}
